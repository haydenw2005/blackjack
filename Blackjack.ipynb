{
  "nbformat": 4,
  "nbformat_minor": 0,
  "metadata": {
    "colab": {
      "name": "Blackjack.ipynb",
      "provenance": [],
      "collapsed_sections": []
    },
    "kernelspec": {
      "name": "python3",
      "display_name": "Python 3"
    }
  },
  "cells": [
    {
      "cell_type": "code",
      "metadata": {
        "id": "U8Lj8tiefM3U",
        "colab_type": "code",
        "colab": {}
      },
      "source": [
        "from enum import Enum\n",
        "class Suit(Enum):\n",
        "  HEART = \"H\"\n",
        "  DIAMOND = \"D\"\n",
        "  CLUB = \"C\"\n",
        "  SPADE = \"S\"\n",
        "  "
      ],
      "execution_count": 1,
      "outputs": []
    },
    {
      "cell_type": "code",
      "metadata": {
        "id": "bTQJ8XYro2tJ",
        "colab_type": "code",
        "colab": {}
      },
      "source": [
        "class Rank(Enum):\n",
        "  ACE = \"A\"\n",
        "  TWO = \"2\"\n",
        "  THREE = \"3\"\n",
        "  FOUR =\"4\"\n",
        "  FIVE =\"5\"\n",
        "  SIX = \"6\"\n",
        "  SEVEN = \"7\"\n",
        "  EIGHT =\"8\"\n",
        "  NINE =\"9\"\n",
        "  TEN = \"10\"\n",
        "  JACK =\"J\"\n",
        "  QUEEN =\"Q\"\n",
        "  KING =\"K\""
      ],
      "execution_count": 2,
      "outputs": []
    },
    {
      "cell_type": "code",
      "metadata": {
        "id": "uwDlXLbYdo1-",
        "colab_type": "code",
        "colab": {}
      },
      "source": [
        "class Card:\n",
        "  def __init__(self, suit, rank, is_showing = True):\n",
        "    self.suit = suit\n",
        "    self.rank = rank\n",
        "    self.is_showing = is_showing\n",
        "\n",
        "  def __str__(self):\n",
        "    return str(self.rank.value) + str(self.suit.value)\n",
        "\n",
        "  def is_face(self):\n",
        "    if self.rank in set([Rank.TEN, Rank.JACK, Rank.QUEEN, Rank.KING, Rank.ACE]):\n",
        "      return True\n",
        "    else:\n",
        "      return False\n",
        "\n",
        "  def is_low(self):\n",
        "    if self.rank in set([Rank.TWO, Rank.THREE, Rank.FOUR, Rank.FIVE, Rank.SIX]):\n",
        "      return True\n",
        "    else:\n",
        "      return False\n"
      ],
      "execution_count": 3,
      "outputs": []
    },
    {
      "cell_type": "code",
      "metadata": {
        "id": "XtCZex15ev5-",
        "colab_type": "code",
        "colab": {}
      },
      "source": [
        "import random\n",
        "class Shoe:\n",
        "  def __init__(self, num_decks = 6):\n",
        "    self.shoe = []\n",
        "    self.discard = []\n",
        "    for i in range(num_decks):\n",
        "      for suit in [Suit.HEART, Suit.DIAMOND, Suit.CLUB, Suit.SPADE]:\n",
        "        for rank in [Rank.ACE, Rank.TWO, Rank.THREE, Rank.FOUR, Rank.FIVE, Rank.SIX, Rank.SEVEN, Rank.EIGHT, Rank.NINE, Rank.TEN, Rank.JACK, Rank.QUEEN, Rank.KING]:\n",
        "          self.shoe.append(Card(suit, rank))\n",
        "\n",
        "  def deal(self, num_cards):\n",
        "    popped_cards = [] \n",
        "    for idx in range(num_cards):\n",
        "      if not self.shoe:\n",
        "        self.reshuffle()\n",
        "      popped_cards.append(self.shoe.pop())\n",
        "    return popped_cards\n",
        "\n",
        "  def shuffle(self):\n",
        "    random.shuffle(self.shoe)\n",
        "\n",
        "  def __str__(self):\n",
        "    return \",\".join(map(str,self.shoe))\n",
        "         \n",
        "  def add_to_discard(self,used_cards):\n",
        "    self.discard.extend(used_cards)\n",
        "\n",
        "  def reshuffle(self):\n",
        "    self.shoe.extend(self.discard)\n",
        "    self.discard = []\n",
        "    self.shuffle()"
      ],
      "execution_count": 4,
      "outputs": []
    },
    {
      "cell_type": "code",
      "metadata": {
        "id": "bPQ-HL-lWAWF",
        "colab_type": "code",
        "colab": {}
      },
      "source": [
        "class Hand:\n",
        "  def __init__(self):\n",
        "    self.cards = []\n",
        "  \n",
        "  def add_cards(self, new_cards):\n",
        "    self.cards.extend(new_cards)\n",
        "\n",
        "  def __str__(self):\n",
        "    return \",\".join(map(str,self.cards))\n",
        "\n",
        "  def get_total(self,ace_value=1):\n",
        "    total = 0\n",
        "    for card in self.cards:\n",
        "      if card.rank == Rank.ACE:\n",
        "        total += ace_value\n",
        "      elif card.rank == Rank.JACK or card.rank == Rank.QUEEN or card.rank == Rank.KING:\n",
        "        total += 10\n",
        "      else:\n",
        "        total = total + int(card.rank.value)\n",
        "    return total\n",
        "\n",
        "  def is_bust(self):\n",
        "    if self.get_total() > 21:\n",
        "      return True\n",
        "    else: \n",
        "      return False\n",
        "      \n",
        "  def is_blackjack(self):\n",
        "    if len(self.cards) != 2:\n",
        "      return False\n",
        "    if len(self.cards) == 2 and self.get_total() == 11:\n",
        "      return True\n",
        "    else:\n",
        "      return False\n",
        "      "
      ],
      "execution_count": 5,
      "outputs": []
    },
    {
      "cell_type": "code",
      "metadata": {
        "id": "1OmxHIPAeSAh",
        "colab_type": "code",
        "colab": {}
      },
      "source": [
        "class Action(Enum):\n",
        "  HIT = 0\n",
        "  STAY = 1"
      ],
      "execution_count": 6,
      "outputs": []
    },
    {
      "cell_type": "code",
      "metadata": {
        "id": "i-HoJ-WXi6aH",
        "colab_type": "code",
        "colab": {}
      },
      "source": [
        "from enum import Enum\n",
        "class GameStatus(Enum):\n",
        "  PLAYER_WIN = 0\n",
        "  DEALER_WIN = 1\n",
        "  TIE = 2\n",
        "  ONGOING = 3"
      ],
      "execution_count": 7,
      "outputs": []
    },
    {
      "cell_type": "code",
      "metadata": {
        "id": "oc6qIFkBqca5",
        "colab_type": "code",
        "colab": {}
      },
      "source": [
        "class Blackjack:\n",
        "  def __init__(self):\n",
        "    self.shoe = Shoe()\n",
        "    self.shoe.shuffle()\n",
        "    \n",
        "  def start_deal(self):\n",
        "    self.dealer_hand = Hand()\n",
        "    self.player_hand = Hand()\n",
        "    self.player_hand.add_cards(self.shoe.deal(2))\n",
        "    self.dealer_hand.add_cards(self.shoe.deal(2))\n",
        "    self.dealer_hand.cards[0].is_showing = False\n",
        "\n",
        "    if self.dealer_hand.is_blackjack() and self.player_hand.is_blackjack():\n",
        "      return (self.player_hand, self.dealer_hand, GameStatus.TIE)\n",
        "    elif self.dealer_hand.is_blackjack():\n",
        "      return (self.player_hand, self.dealer_hand, GameStatus.DEALER_WIN)\n",
        "    elif self.player_hand.is_blackjack():\n",
        "      return (self.player_hand, self.dealer_hand, GameStatus.PLAYER_WIN)\n",
        "    return (self.player_hand, self.dealer_hand, GameStatus.ONGOING)\n",
        "\n",
        "  def collect_hands(self, player_hand,dealer_hand):\n",
        "    self.shoe.add_to_discard(player_hand.cards)\n",
        "    self.shoe.add_to_discard(dealer_hand.cards)\n",
        "    \n",
        "  def next_action(self, action):\n",
        "    game_status = GameStatus.ONGOING\n",
        "    if action == Action.STAY:\n",
        "      while dealer_hand.get_total() < 17:\n",
        "        new_card = self.shoe.deal(1)\n",
        "        self.dealer_hand.add_cards(new_card)\n",
        "      if dealer_hand.is_bust():\n",
        "        game_status = GameStatus.PLAYER_WIN\n",
        "      else: \n",
        "        if self.dealer_hand.get_total() > self.player_hand.get_total():\n",
        "          game_status = GameStatus.DEALER_WIN\n",
        "        elif self.dealer_hand.get_total() == self.player_hand.get_total():\n",
        "          game_status = GameStatus.TIE\n",
        "        else:\n",
        "          game_status = GameStatus.PLAYER_WIN\n",
        "    elif action == Action.HIT:\n",
        "      new_card = self.shoe.deal(1)\n",
        "      self.player_hand.add_cards(new_card)\n",
        "      if self.player_hand.is_bust():\n",
        "        game_status = GameStatus.DEALER_WIN\n",
        "    return (self.player_hand, self.dealer_hand, game_status)"
      ],
      "execution_count": 8,
      "outputs": []
    },
    {
      "cell_type": "code",
      "metadata": {
        "id": "09M5pt7NBRrK",
        "colab_type": "code",
        "colab": {}
      },
      "source": [
        "class StayStrategy:\n",
        "  def choose_action(self,player_hand, dealer_hand):\n",
        "    return Action.STAY\n",
        "  "
      ],
      "execution_count": 9,
      "outputs": []
    },
    {
      "cell_type": "code",
      "metadata": {
        "id": "DK_bhYEzCIyN",
        "colab_type": "code",
        "colab": {}
      },
      "source": [
        "import random \n",
        "class RandomStrategy:\n",
        "  def choose_action(self,player_hand, dealer_hand):\n",
        "    if random.random() == 0:\n",
        "      return Action.STAY\n",
        "    else:\n",
        "      return Action.HIT"
      ],
      "execution_count": 10,
      "outputs": []
    },
    {
      "cell_type": "code",
      "metadata": {
        "id": "TL4tm99m6DaE",
        "colab_type": "code",
        "colab": {}
      },
      "source": [
        "class SafeStrategy:\n",
        "  def choose_action(self,player_hand, dealer_hand):\n",
        "    if player_hand.get_total() >= 17 and player_hand.get_total(ace_value=11) >= 17:\n",
        "      return Action.STAY\n",
        "    else: \n",
        "      return Action.HIT"
      ],
      "execution_count": 11,
      "outputs": []
    },
    {
      "cell_type": "code",
      "metadata": {
        "id": "CHXqFsZrHhqV",
        "colab_type": "code",
        "colab": {}
      },
      "source": [
        "class SimpleBetter:\n",
        "  def track_hands(self,player_hand, dealer_hand):\n",
        "    return None\n",
        "\n",
        "  def betting_amount(self,total_balance):\n",
        "    bet_total = total_balance/1000\n",
        "    if total_balance < 25:\n",
        "      bet_total = 0\n",
        "    elif bet_total < 25:\n",
        "      bet_total = 25\n",
        "\n",
        "    return bet_total"
      ],
      "execution_count": 12,
      "outputs": []
    },
    {
      "cell_type": "code",
      "metadata": {
        "id": "ZoGctDiuue3Z",
        "colab_type": "code",
        "colab": {}
      },
      "source": [
        "\"\"\"class CardCounterV1:\n",
        "  def __init__(self):\n",
        "    self.cards_seen = 0 \n",
        "    self.face_cards_seen = 0\n",
        "    self.low_cards_seen = 0\n",
        "    self.num_points = 0\n",
        "\n",
        "  def count_cards(self,cards):\n",
        "    for card in cards:\n",
        "      self.cards_seen += 1\n",
        "      if card.is_face():\n",
        "        self.face_cards_seen +=1\n",
        "        self.num_points -=1\n",
        "      elif card.is_low():\n",
        "        self.low_cards_seen +=1\n",
        "        self.num_points +=1\n",
        "\n",
        "  def track_hands(self,player_hand, dealer_hand):\n",
        "    self.count_cards(player_hand.cards)\n",
        "    self.count_cards(dealer_hand.cards)\n",
        "\n",
        "  def betting_amount(self,total_balance):\n",
        "    bet_total = total_balance/1000 * -1*(self.num_points-1)\n",
        "    true_count = self.num_points\n",
        "    if total_balance < 25:\n",
        "      bet_total = 0\n",
        "    elif bet_total < 25:\n",
        "      bet_total = 25\n",
        "\n",
        "    return bet_total\"\"\"\n",
        "    \n",
        "  \n"
      ],
      "execution_count": 13,
      "outputs": []
    },
    {
      "cell_type": "code",
      "metadata": {
        "id": "6avrnotXbUjU",
        "colab_type": "code",
        "colab": {
          "base_uri": "https://localhost:8080/",
          "height": 68
        },
        "outputId": "8e2954ce-3045-4e31-e13d-f1374c691d45"
      },
      "source": [
        "\n",
        "num_sims = 500\n",
        "num_rounds = 100\n",
        "strategies = [RandomStrategy(), StayStrategy(), SafeStrategy()]\n",
        "\n",
        "better = SimpleBetter()\n",
        "\n",
        "for strategy in strategies:\n",
        "  num_player_wins = 0\n",
        "  num_ties = 0\n",
        "  num_trials = 0\n",
        "  total_earnings = 0\n",
        "\n",
        "  for i in range(0, num_sims):\n",
        "    bank_balance = 10000\n",
        "    blackjackGame = Blackjack()\n",
        "    for j in range(0, num_rounds):\n",
        "      bet_amount = better.betting_amount(bank_balance)\n",
        "      if bet_amount == 0:\n",
        "        break\n",
        "\n",
        "      (player_hand, dealer_hand, game_status) = blackjackGame.start_deal()\n",
        "\n",
        "      while game_status == GameStatus.ONGOING:\n",
        "        (player_hand, dealer_hand, game_status) = blackjackGame.next_action(strategy.choose_action(player_hand, dealer_hand))\n",
        "      if game_status == GameStatus.PLAYER_WIN:\n",
        "        num_player_wins = num_player_wins + 1\n",
        "        bank_balance += bet_amount\n",
        "      elif game_status == GameStatus.TIE:\n",
        "        num_ties = num_ties + 1\n",
        "      else:\n",
        "        bank_balance -= bet_amount\n",
        "\n",
        "      \n",
        "      blackjackGame.collect_hands(player_hand, dealer_hand)\n",
        "      better.track_hands(player_hand, dealer_hand)\n",
        "      num_trials += 1\n",
        "      if bank_balance <= 0:\n",
        "        break\n",
        "\n",
        "    total_earnings = total_earnings + bank_balance \n",
        "\n",
        "  pct_play_wins = 100*num_player_wins/num_trials\n",
        "  pct_ties = 100*num_ties/num_trials\n",
        "  pct_play_losses = 100 - pct_play_wins - pct_ties\n",
        "  ave_earnings = total_earnings/num_sims\n",
        "  print(\"{} - Wins: {:.2f}%, Ties: {:.2f}%, Losses: {:.2f}, Ave. earnings: {}\".format(type(strategy).__name__, pct_play_wins, pct_ties, pct_play_losses, ave_earnings))\n",
        "    "
      ],
      "execution_count": 14,
      "outputs": [
        {
          "output_type": "stream",
          "text": [
            "RandomStrategy - Wins: 8.82%, Ties: 0.91%, Losses: 90.27, Ave. earnings: 7963.65\n",
            "StayStrategy - Wins: 41.06%, Ties: 4.64%, Losses: 54.30, Ave. earnings: 9668.95\n",
            "SafeStrategy - Wins: 41.35%, Ties: 8.91%, Losses: 49.74, Ave. earnings: 9790.25\n"
          ],
          "name": "stdout"
        }
      ]
    },
    {
      "cell_type": "markdown",
      "metadata": {
        "id": "H4X_R-FWwk9D",
        "colab_type": "text"
      },
      "source": [
        "Todo:\n",
        "* new class in bj game \"payout\" \n",
        "* update blj to support doubling\n",
        "*  update rules: https://www.quora.com/How-can-people-win-in-a-blackjack-without-counting \n",
        "*  update betting strategy: https://www.countingedge.com/card-counting/true-count/ (https://www.888casino.com/blog/blackjack-tips/the-win-rate-of-the-average-blackjack-card-counter)\n",
        "* fix counting strat, buggy/not working\n",
        "*input game?\n",
        "\n",
        "\n",
        "\n",
        "\n"
      ]
    },
    {
      "cell_type": "code",
      "metadata": {
        "id": "7URp6GHFbglD",
        "colab_type": "code",
        "colab": {
          "base_uri": "https://localhost:8080/",
          "height": 103
        },
        "outputId": "0e2b7c62-a893-4e28-d578-744204101d2a"
      },
      "source": [
        "\"\"\"strategy =  RandomStrategy()\n",
        "blackjackGame = Blackjack()\n",
        "print(\"cards in shoe: {}\".format(len(blackjackGame.shoe.shoe)))\n",
        "(player_hand, dealer_hand, game_status) = blackjackGame.start_deal()\n",
        "print(\"Dealer hand: \" + str(dealer_hand))\n",
        "print(\"Player hand: \" + str(player_hand))\n",
        "print(\"Dealer hand total: \" + str(dealer_hand.get_total()))\n",
        "print(\"Player hand total: \" + str(player_hand.get_total()))\n",
        "print(\"Game status: \" + str(game_status))\n",
        "\n",
        "while game_status == GameStatus.ONGOING:\n",
        "    action = strategy.choose_action(player_hand, dealer_hand)\n",
        "    print(action)\n",
        "    (player_hand, dealer_hand, game_status) = blackjackGame.next_action(action)\n",
        "    print(\"Dealer hand: \" + str(dealer_hand))\n",
        "    print(\"Player hand: \" + str(player_hand))\n",
        "    print(\"Dealer hand total: \" + str(dealer_hand.get_total()))\n",
        "    print(\"Player hand total: \" + str(player_hand.get_total()))\n",
        "    print(\"Game status: \" + str(game_status))\n",
        "\n",
        "blackjackGame.collect_hands(player_hand, dealer_hand)\n",
        "print(\"# of cards in discard pile: {}\".format(len(blackjackGame.shoe.discard)))\n",
        "print(\"# of cards left in shoe: {}\".format(len(blackjackGame.shoe.shoe)))\"\"\"\n",
        "\n",
        "\n"
      ],
      "execution_count": 19,
      "outputs": [
        {
          "output_type": "execute_result",
          "data": {
            "application/vnd.google.colaboratory.intrinsic": {
              "type": "string"
            },
            "text/plain": [
              "'strategy =  RandomStrategy()\\nblackjackGame = Blackjack()\\nprint(\"cards in shoe: {}\".format(len(blackjackGame.shoe.shoe)))\\n(player_hand, dealer_hand, game_status) = blackjackGame.start_deal()\\nprint(\"Dealer hand: \" + str(dealer_hand))\\nprint(\"Player hand: \" + str(player_hand))\\nprint(\"Dealer hand total: \" + str(dealer_hand.get_total()))\\nprint(\"Player hand total: \" + str(player_hand.get_total()))\\nprint(\"Game status: \" + str(game_status))\\n\\nwhile game_status == GameStatus.ONGOING:\\n    action = strategy.choose_action(player_hand, dealer_hand)\\n    print(action)\\n    (player_hand, dealer_hand, game_status) = blackjackGame.next_action(action)\\n    print(\"Dealer hand: \" + str(dealer_hand))\\n    print(\"Player hand: \" + str(player_hand))\\n    print(\"Dealer hand total: \" + str(dealer_hand.get_total()))\\n    print(\"Player hand total: \" + str(player_hand.get_total()))\\n    print(\"Game status: \" + str(game_status))\\n\\nblackjackGame.collect_hands(player_hand, dealer_hand)\\nprint(\"# of cards in discard pile: {}\".format(len(blackjackGame.shoe.discard)))\\nprint(\"# of cards left in shoe: {}\".format(len(blackjackGame.shoe.shoe)))'"
            ]
          },
          "metadata": {
            "tags": []
          },
          "execution_count": 19
        }
      ]
    },
    {
      "cell_type": "code",
      "metadata": {
        "id": "NaWNAkhFkuIj",
        "colab_type": "code",
        "colab": {}
      },
      "source": [
        "list(range(20))"
      ],
      "execution_count": null,
      "outputs": []
    }
  ]
}